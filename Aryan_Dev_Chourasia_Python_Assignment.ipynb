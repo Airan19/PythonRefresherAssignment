{
  "nbformat": 4,
  "nbformat_minor": 0,
  "metadata": {
    "colab": {
      "provenance": []
    },
    "kernelspec": {
      "name": "python3",
      "display_name": "Python 3"
    },
    "language_info": {
      "name": "python"
    }
  },
  "cells": [
    {
      "cell_type": "markdown",
      "source": [
        "Slicing\n",
        "Get element from second position to fifth position from list - [1, 2, 3, 4, 5, 6]\n",
        "\n",
        "\n"
      ],
      "metadata": {
        "id": "smRaxr1mclY8"
      }
    },
    {
      "cell_type": "code",
      "execution_count": null,
      "metadata": {
        "colab": {
          "base_uri": "https://localhost:8080/"
        },
        "id": "O95f9YE5cXrv",
        "outputId": "0affebf6-6462-4a9d-ad8d-ebd96cf28a72"
      },
      "outputs": [
        {
          "output_type": "stream",
          "name": "stdout",
          "text": [
            "[2, 3, 4, 5]\n"
          ]
        }
      ],
      "source": [
        "def slicing(li, start, end):\n",
        "  return li[start-1:end]\n",
        "\n",
        "\n",
        "li = [1, 2, 3, 4, 5, 6]\n",
        "print(slicing(li, 2, 5))"
      ]
    },
    {
      "cell_type": "markdown",
      "source": [
        "Condition\n",
        "Check if string palindrome or not “ab”, “abc”, “aba”\n",
        "\n"
      ],
      "metadata": {
        "id": "NoY-DO3acxmX"
      }
    },
    {
      "cell_type": "code",
      "source": [
        "def isPalindrome(string):\n",
        "  if string[::-1] == string:\n",
        "    return True\n",
        "  return False\n",
        "\n",
        "\n",
        "li = ['ab','abc','aba']\n",
        "for string in li:\n",
        "  print(isPalindrome(string))"
      ],
      "metadata": {
        "colab": {
          "base_uri": "https://localhost:8080/"
        },
        "id": "4AxkwbFJdh1c",
        "outputId": "fcfcaf5e-0426-46a3-c006-7709e2236d71"
      },
      "execution_count": null,
      "outputs": [
        {
          "output_type": "stream",
          "name": "stdout",
          "text": [
            "False\n",
            "False\n",
            "True\n"
          ]
        }
      ]
    },
    {
      "cell_type": "markdown",
      "source": [
        "Loop\n",
        "Check if string contains repeated characters “aab”, “abc”, “def”\n",
        "\n"
      ],
      "metadata": {
        "id": "y654wUlDeDYh"
      }
    },
    {
      "cell_type": "code",
      "source": [
        "def repeatedCharacters(string):\n",
        "  for ch in string:\n",
        "    if string.count(ch) > 1:\n",
        "      return True\n",
        "  return False\n",
        "\n",
        "\n",
        "li = ['aab', 'abc', 'def']\n",
        "for string in li:\n",
        "  print(repeatedCharacters(string))"
      ],
      "metadata": {
        "colab": {
          "base_uri": "https://localhost:8080/"
        },
        "id": "Wk-6R9m4eGgx",
        "outputId": "f0d8775d-2b34-4ec5-98c6-01670b1a2a7d"
      },
      "execution_count": null,
      "outputs": [
        {
          "output_type": "stream",
          "name": "stdout",
          "text": [
            "True\n",
            "False\n",
            "False\n"
          ]
        }
      ]
    },
    {
      "cell_type": "markdown",
      "source": [
        "Function\n",
        "Convert all the above to function which can work on variadic number of arguments"
      ],
      "metadata": {
        "id": "1h0pRnT0fMIr"
      }
    },
    {
      "cell_type": "code",
      "source": [
        "li = ['aab', 'abc', 'def', 'addcf', 'aabbaa']\n",
        "print(slicing(li, 1,4))\n",
        "print(isPalindrome(li[-1])) #'aabbaa\n",
        "print(repeatedCharacters(li[3])) #'addcf"
      ],
      "metadata": {
        "colab": {
          "base_uri": "https://localhost:8080/"
        },
        "id": "mJh4M3nefOr7",
        "outputId": "7eed17f2-ee27-4d66-94ed-53092fd820e9"
      },
      "execution_count": null,
      "outputs": [
        {
          "output_type": "stream",
          "name": "stdout",
          "text": [
            "['aab', 'abc', 'def', 'addcf']\n",
            "True\n",
            "True\n"
          ]
        }
      ]
    }
  ]
}